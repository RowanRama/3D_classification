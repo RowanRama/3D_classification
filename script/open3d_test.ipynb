{
    "cells": [
        {
            "cell_type": "code",
            "execution_count": 14,
            "metadata": {},
            "outputs": [],
            "source": [
                "import open3d as o3d\n",
                "import numpy as np\n",
                "import matplotlib.cm as plt\n",
                "import math\n",
                "import time\n",
                "\n",
                "pcd_dir = \"../extracted_pcl/tower/\""
            ]
        },
        {
            "cell_type": "code",
            "execution_count": 2,
            "metadata": {},
            "outputs": [],
            "source": [
                "def readFile(FileName):\n",
                "    path = pcd_dir + FileName\n",
                "    print(\"Reading in file\")\n",
                "    pcd = o3d.io.read_point_cloud(path)\n",
                "    print(pcd.get_min_bound())\n",
                "    print(pcd.get_max_bound())\n",
                "    print(pcd)\n",
                "    # print(np.asarray(pcd.points))\n",
                "    xyz = np.asarray(pcd.points)\n",
                "    xyz = xyz[xyz[:, 2] > 0.2]\n",
                "    pcd.points = o3d.utility.Vector3dVector(xyz)\n",
                "\n",
                "    # plane_model, inliers = pcd.segment_plane(distance_threshold=0.1,\n",
                "    #                                      ransac_n=3,\n",
                "    #                                      num_iterations=1000)\n",
                "    # [a, b, c, d] = plane_model\n",
                "    # print(f\"Plane equation: {a:.2f}x + {b:.2f}y + {c:.2f}z + {d:.2f} = 0\")\n",
                "\n",
                "    # pcd = pcd.select_by_index(inliers, True)\n",
                "\n",
                "    with o3d.utility.VerbosityContextManager(\n",
                "            o3d.utility.VerbosityLevel.Debug) as cm:\n",
                "        labels = np.array(\n",
                "            pcd.cluster_dbscan(eps=1, min_points=5, print_progress=True))\n",
                "\n",
                "    max_label = labels.max()\n",
                "    values, counts = np.unique(labels, return_counts=True)\n",
                "    idxs = np.where(labels == values[counts.argmax()])[0]\n",
                "    print(idxs)\n",
                "    pcd = pcd.select_by_index(idxs)\n",
                "\n",
                "    print(f\"point cloud has {max_label + 1} clusters\")\n",
                "    colors = plt.get_cmap(\"tab20\")(labels / (max_label if max_label > 0 else 1))\n",
                "    colors[labels < 0] = 0\n",
                "    pcd.colors = o3d.utility.Vector3dVector(colors[:, :3])\n",
                "\n",
                "    # o3d.visualization.draw_geometries([pcd])\n",
                "    # alpha = 0.5\n",
                "    # print(f\"alpha={alpha:.3f}\")\n",
                "    # mesh, pt_map = o3d.geometry.TetraMesh.create_from_point_cloud(pcd)\n",
                "\n",
                "    # mesh = o3d.geometry.TriangleMesh.create_from_point_cloud_alpha_shape(pcd, alpha, tetra_mesh, pt_map)\n",
                "    # mesh.compute_vertex_normals()\n",
                "    # o3d.visualization.draw_geometries([pcd, mesh], mesh_show_back_face=True)\n",
                "    # with o3d.utility.VerbosityContextManager(\n",
                "    #     o3d.utility.VerbosityLevel.Debug) as cm:\n",
                "    #     labels = np.array(\n",
                "    #         pcd.cluster_dbscan(eps=0.02, min_points=10, print_progress=True))\n",
                "    # o3d.visualization.draw_geometries([mesh])\n",
                "\n",
                "    # max_label = labels.max()\n",
                "    # print(f\"point cloud has {max_label + 1} clusters\")\n",
                "    # colors = plt.get_cmap(\"tab20\")(labels / (max_label if max_label > 0 else 1))\n",
                "    # colors[labels < 0] = 0\n",
                "    # pcd.colors = o3d.utility.Vector3dVector(colors[:, :3])\n",
                "    # o3d.visualization.draw_geometries([pcd],\n",
                "    #                                 zoom=0.455,\n",
                "    #                                 front=[-0.4999, -0.1659, -0.8499],\n",
                "    #                                 lookat=[2.1813, 2.0619, 2.0999],\n",
                "    #                                 up=[0.1204, -0.9852, 0.1215])\n",
                "    # pcl, ind = pcd.remove_radius_outlier(nb_points=30, radius=1)\n",
                "\n",
                "    # hull, _ = pcd.compute_convex_hull()\n",
                "    # hull_ls = o3d.geometry.LineSet.create_from_triangle_mesh(hull)\n",
                "    # hull_ls.paint_uniform_color((1, 0, 0))\n",
                "    # o3d.visualization.draw_geometries([pcd, hull_ls])\n",
                "    return o3d.io.read_point_cloud(path), pcd\n"
            ]
        },
        {
            "cell_type": "code",
            "execution_count": 3,
            "metadata": {},
            "outputs": [],
            "source": [
                "def extract_properties(pcd_in):\n",
                "    xyz = np.asarray(pcd_in.points)\n",
                "\n",
                "    base = xyz[xyz[:, 2] < 2]\n",
                "    base_pcd = o3d.geometry.PointCloud()\n",
                "    base_pcd.points = o3d.utility.Vector3dVector(base)\n",
                "    obb = base_pcd.get_axis_aligned_bounding_box()\n",
                "    center = obb.get_center()\n",
                "    center[2] = 0.3\n",
                "    extent = obb.get_extent()\n",
                "    width = min(extent[0], extent[1])\n",
                "    height = pcd_in.get_max_bound()[2]\n",
                "    print(width)\n",
                "    print(center)\n",
                "\n",
                "    plane_model, inliers = pcd_in.segment_plane(distance_threshold=0.3,\n",
                "                                         ransac_n=3,\n",
                "                                         num_iterations=1000)\n",
                "    [a, b, c, d] = plane_model\n",
                "    print(f\"Plane equation: {a:.2f}x + {b:.2f}y + {c:.2f}z + {d:.2f} = 0\")\n",
                "\n",
                "    pcd = pcd_in.select_by_index(inliers)\n",
                "    # o3d.visualization.draw_geometries([pcd])\n",
                "    extent = pcd.get_axis_aligned_bounding_box().get_extent()\n",
                "    slope = min(abs(extent[0]/extent[2]),abs(extent[1]/extent[2]))\n",
                "    print(slope)\n",
                "    return center, width, 0, height, slope"
            ]
        },
        {
            "cell_type": "code",
            "execution_count": 4,
            "metadata": {},
            "outputs": [
                {
                    "name": "stdout",
                    "output_type": "stream",
                    "text": [
                        "Reading in file\n",
                        "[ 10.1      -34.900002   0.1     ]\n",
                        "[ 34.900002 -15.1       48.099998]\n",
                        "PointCloud with 25298 points.\n",
                        "[Open3D DEBUG] Precompute Neighbours\n",
                        "[Open3D DEBUG] Done Precompute Neighbours\n",
                        "[Open3D DEBUG] Compute Clusters\n",
                        "[Open3D DEBUG] Done Compute Clusters: 23\n",
                        "[    0     1     2 ... 20049 20050 20051]\n",
                        "point cloud has 23 clusters\n",
                        "9.799999\n",
                        "[ 19.9       -24.6000005   0.3      ]\n",
                        "Plane equation: 1.00x + 0.00y + 0.09z + -24.63 = 0\n",
                        "0.09905657787580155\n"
                    ]
                },
                {
                    "data": {
                        "text/plain": [
                            "(array([ 19.9      , -24.6000005,   0.3      ]),\n",
                            " 9.799999,\n",
                            " 0,\n",
                            " 44.099998,\n",
                            " 0.09905657787580155)"
                        ]
                    },
                    "execution_count": 4,
                    "metadata": {},
                    "output_type": "execute_result"
                }
            ],
            "source": [
                "pcd_file = \"973300000.pcd\"\n",
                "orig, pcd = readFile(pcd_file); # Filtered pointcloud without noise or ground\n",
                "orig.translate([20,0,0])\n",
                "extract_properties(pcd)\n",
                "# o3d.visualization.draw_geometries([orig,pcd])"
            ]
        },
        {
            "cell_type": "code",
            "execution_count": 24,
            "metadata": {},
            "outputs": [],
            "source": [
                "def construct_pyramid_pcd(center, width, orientation, height, slope):\n",
                "    top_width = width - 2*(slope*height)\n",
                "    base_xyz =  [[center[0]+width/2, center[1]+width/2, center[2]],\n",
                "                [center[0]+width/2, center[1]-width/2, center[2]],\n",
                "                [center[0]-width/2, center[1]+width/2, center[2]],\n",
                "                [center[0]-width/2, center[1]-width/2, center[2]]]\n",
                "    top_xyz =   [[center[0]+top_width/2, center[1]+top_width/2, height],\n",
                "                [center[0]+top_width/2, center[1]-top_width/2, height],\n",
                "                [center[0]-top_width/2, center[1]+top_width/2, height],\n",
                "                [center[0]-top_width/2, center[1]-top_width/2, height]]\n",
                "    points = np.concatenate((np.asarray(base_xyz), np.asarray(top_xyz)),axis=0)\n",
                "    pcd = o3d.geometry.PointCloud()\n",
                "    pcd.points = o3d.utility.Vector3dVector(points)\n",
                "    mesh = pcd.compute_convex_hull()\n",
                "    # alpha = 0.03\n",
                "    # print(f\"alpha={alpha:.3f}\")\n",
                "    # mesh = o3d.geometry.TriangleMesh.create_from_point_cloud(pcd)\n",
                "    # mesh.compute_vertex_normals()\n",
                "    # o3d.visualization.draw_geometries([mesh], mesh_show_back_face=True)\n",
                "    # o3d.visualization.draw_geometries([mesh], mesh_show_back_face=True)\n",
                "    # print(mesh)\n",
                "    pcd = mesh[0].sample_points_poisson_disk(number_of_points=2000, init_factor=5)\n",
                "    xyz = np.asarray(pcd.points)\n",
                "    pcd.points = o3d.utility.Vector3dVector(xyz[xyz[:,2] > 0.3])\n",
                "    return pcd, mesh\n",
                "\n",
                "def construct_cone_pcd(center, width, orientation, height):\n",
                "    mesh = o3d.geometry.TriangleMesh.create_cone(math.sqrt(2)*width/2, height)\n",
                "    mesh.translate(center)\n",
                "    pcd = mesh.sample_points_poisson_disk(number_of_points=2000, init_factor=5)\n",
                "    xyz = np.asarray(pcd.points)\n",
                "    pcd.points = o3d.utility.Vector3dVector(xyz[xyz[:,2] > 0.3])\n",
                "    return pcd, mesh\n",
                "\n"
            ]
        },
        {
            "cell_type": "code",
            "execution_count": 22,
            "metadata": {},
            "outputs": [
                {
                    "name": "stdout",
                    "output_type": "stream",
                    "text": [
                        "Reading in file\n",
                        "[ 10.1      -34.900002   0.1     ]\n",
                        "[ 34.900002 -15.1       48.099998]\n",
                        "PointCloud with 25298 points.\n",
                        "[Open3D DEBUG] Precompute Neighbours\n",
                        "[Open3D DEBUG] Done Precompute Neighbours\n",
                        "[Open3D DEBUG] Compute Clusters\n",
                        "[Open3D DEBUG] Done Compute Clusters: 23\n",
                        "[    0     1     2 ... 20049 20050 20051]\n",
                        "point cloud has 23 clusters\n",
                        "9.799999\n",
                        "[ 19.9       -24.6000005   0.3      ]\n",
                        "Plane equation: 1.00x + 0.01y + 0.08z + -24.39 = 0\n",
                        "0.09302325799891838\n",
                        "Initial alignment\n",
                        "0.36220472440944884   0.2940178489735888\n",
                        "0.7418951988220215\n"
                    ]
                }
            ],
            "source": [
                "pcd_file = \"973300000.pcd\"\n",
                "start = time.time()\n",
                "orig, pcd = readFile(pcd_file); # Filtered pointcloud without noise or ground\n",
                "center, width, position, height, slope = extract_properties(pcd)\n",
                "mesh, meshmesh = construct_cone_pcd(center, width, True, height)\n",
                "# orig.translate([40,0,0])\n",
                "# temp = o3d.geometry.PointCloud()\n",
                "# temp.points = pcd.points\n",
                "# temp.translate([20,0,0])\n",
                "# o3d.visualization.draw_geometries([pcd,meshmesh], mesh_show_back_face=True)\n",
                "print(\"Initial alignment\")\n",
                "evaluation = o3d.pipelines.registration.evaluate_registration(\n",
                "    mesh, pcd, 0.5)\n",
                "print(str(evaluation.fitness) + \"   \" + str(evaluation.inlier_rmse))\n",
                "end = time.time()\n",
                "print(end-start)"
            ]
        },
        {
            "cell_type": "code",
            "execution_count": 26,
            "metadata": {},
            "outputs": [
                {
                    "name": "stdout",
                    "output_type": "stream",
                    "text": [
                        "Reading in file\n",
                        "[ 10.1      -34.900002   0.1     ]\n",
                        "[ 34.900002 -15.1       48.099998]\n",
                        "PointCloud with 25298 points.\n",
                        "[Open3D DEBUG] Precompute Neighbours\n",
                        "[Open3D DEBUG] Done Precompute Neighbours\n",
                        "[Open3D DEBUG] Compute Clusters\n",
                        "[Open3D DEBUG] Done Compute Clusters: 23\n",
                        "[    0     1     2 ... 20049 20050 20051]\n",
                        "point cloud has 23 clusters\n",
                        "9.799999\n",
                        "[ 19.9       -24.6000005   0.3      ]\n",
                        "Plane equation: -0.01x + 1.00y + 0.08z + 19.88 = 0\n",
                        "0.08675797201788867\n",
                        "Initial alignment\n",
                        "0.6666666666666666   0.2527494858761624\n",
                        "0.7584686279296875\n"
                    ]
                }
            ],
            "source": [
                "pcd_file = \"973300000.pcd\"\n",
                "start = time.time()\n",
                "orig, pcd = readFile(pcd_file); # Filtered pointcloud without noise or ground\n",
                "center, width, orientation, height, slope = extract_properties(pcd)\n",
                "mesh, meshmesh = construct_pyramid_pcd(center, width, orientation, height, slope)\n",
                "# orig.translate([40,0,0])\n",
                "# temp = o3d.geometry.PointCloud()\n",
                "# temp.points = pcd.points\n",
                "# temp.translate([20,0,0])\n",
                "# o3d.visualization.draw_geometries([pcd,meshmesh], mesh_show_back_face=True)\n",
                "print(\"Initial alignment\")\n",
                "evaluation = o3d.pipelines.registration.evaluate_registration(\n",
                "    mesh, pcd, 0.5)\n",
                "print(str(evaluation.fitness) + \"   \" + str(evaluation.inlier_rmse))\n",
                "end = time.time()\n",
                "print(end-start)"
            ]
        },
        {
            "cell_type": "code",
            "execution_count": 8,
            "metadata": {},
            "outputs": [],
            "source": [
                "o3d.visualization.draw_geometries([mesh])"
            ]
        },
        {
            "cell_type": "code",
            "execution_count": 9,
            "metadata": {},
            "outputs": [
                {
                    "name": "stdout",
                    "output_type": "stream",
                    "text": [
                        "Initial alignment\n",
                        "RegistrationResult with fitness=4.179188e-01, inlier_rmse=2.681977e-01, and correspondence_set size of 751\n",
                        "Access transformation to get result.\n"
                    ]
                }
            ],
            "source": [
                "print(\"Initial alignment\")\n",
                "evaluation = o3d.pipelines.registration.evaluate_registration(\n",
                "    mesh, pcd, 0.5)\n",
                "print(evaluation)"
            ]
        },
        {
            "cell_type": "code",
            "execution_count": 10,
            "metadata": {},
            "outputs": [
                {
                    "name": "stdout",
                    "output_type": "stream",
                    "text": [
                        "Reading in file\n",
                        "[ 10.1      -34.900002   0.1     ]\n",
                        "[ 34.900002 -15.1       48.099998]\n",
                        "PointCloud with 25298 points.\n",
                        "[Open3D DEBUG] Precompute Neighbours\n",
                        "[Open3D DEBUG] Done Precompute Neighbours\n",
                        "[Open3D DEBUG] Compute Clusters\n",
                        "[Open3D DEBUG] Done Compute Clusters: 23\n",
                        "[    0     1     2 ... 20049 20050 20051]\n",
                        "point cloud has 23 clusters\n",
                        "Reading in file\n",
                        "[ 10.1 -31.9   0.1]\n",
                        "[ 28.299999 -15.1       24.5     ]\n",
                        "PointCloud with 3763 points.\n",
                        "[Open3D DEBUG] Precompute Neighbours\n",
                        "[Open3D DEBUG] Done Precompute Neighbours\n",
                        "[Open3D DEBUG] Compute Clusters\n",
                        "[Open3D DEBUG] Done Compute Clusters: 3\n",
                        "[   0    1    2 ... 3017 3018 3019]\n",
                        "point cloud has 3 clusters\n",
                        "Reading in file\n",
                        "[ 10.1      -34.900002   0.1     ]\n",
                        "[ 34.900002 -15.1       32.900002]\n",
                        "PointCloud with 16420 points.\n",
                        "[Open3D DEBUG] Precompute Neighbours\n",
                        "[Open3D DEBUG] Done Precompute Neighbours\n",
                        "[Open3D DEBUG] Compute Clusters\n",
                        "[Open3D DEBUG] Done Compute Clusters: 6\n",
                        "[    0     1     2 ... 11579 11580 11581]\n",
                        "point cloud has 6 clusters\n"
                    ]
                }
            ],
            "source": [
                "pcd_file = \"973300000.pcd\"\n",
                "orig1, pcd1 = readFile(pcd_file); # Filtered pointcloud without noise or ground\n",
                "pcd1.translate([-50,0,0])\n",
                "\n",
                "pcd_file = \"94856000.pcd\"\n",
                "orig2, pcd2 = readFile(pcd_file); # Filtered pointcloud without noise or ground\n",
                "\n",
                "pcd_file = \"816172000.pcd\"\n",
                "orig3, pcd3 = readFile(pcd_file); # Filtered pointcloud without noise or ground\n",
                "pcd3.translate([-25,0,0])\n",
                "\n",
                "o3d.visualization.draw_geometries([pcd1,pcd2,pcd3])"
            ]
        },
        {
            "cell_type": "code",
            "execution_count": null,
            "metadata": {},
            "outputs": [],
            "source": []
        }
    ],
    "metadata": {
        "interpreter": {
            "hash": "31f2aee4e71d21fbe5cf8b01ff0e069b9275f58929596ceb00d14d90e3e16cd6"
        },
        "kernelspec": {
            "display_name": "Python 3.6.9 64-bit",
            "name": "python3"
        },
        "language_info": {
            "codemirror_mode": {
                "name": "ipython",
                "version": 3
            },
            "file_extension": ".py",
            "mimetype": "text/x-python",
            "name": "python",
            "nbconvert_exporter": "python",
            "pygments_lexer": "ipython3",
            "version": "3.6.9"
        },
        "orig_nbformat": 4
    },
    "nbformat": 4,
    "nbformat_minor": 2
}

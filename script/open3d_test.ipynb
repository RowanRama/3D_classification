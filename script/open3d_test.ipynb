{
    "cells": [
        {
            "cell_type": "code",
            "execution_count": 1,
            "source": [
                "import open3d as o3d\n",
                "import numpy as np\n",
                "import matplotlib.cm as plt\n",
                "\n",
                "pcd_dir = \"../extracted_pcl/\""
            ],
            "outputs": [],
            "metadata": {}
        },
        {
            "cell_type": "code",
            "execution_count": 2,
            "source": [
                "def readFile(FileName):\n",
                "    path = pcd_dir + FileName\n",
                "    print(\"Reading in file\")\n",
                "    pcd = o3d.io.read_point_cloud(path)\n",
                "    print(pcd)\n",
                "    print(np.asarray(pcd.points))\n",
                "    o3d.visualization.draw_geometries([pcd])\n",
                "    # alpha = 1\n",
                "    # print(f\"alpha={alpha:.3f}\")\n",
                "    # mesh = o3d.geometry.TriangleMesh.create_from_point_cloud_alpha_shape(pcd, alpha)\n",
                "    # mesh.compute_vertex_normals()\n",
                "    # o3d.visualization.draw_geometries([mesh], mesh_show_back_face=True)\n",
                "    # with o3d.utility.VerbosityContextManager(\n",
                "    #     o3d.utility.VerbosityLevel.Debug) as cm:\n",
                "    #     labels = np.array(\n",
                "    #         pcd.cluster_dbscan(eps=0.02, min_points=10, print_progress=True))\n",
                "\n",
                "    # max_label = labels.max()\n",
                "    # print(f\"point cloud has {max_label + 1} clusters\")\n",
                "    # colors = plt.get_cmap(\"tab20\")(labels / (max_label if max_label > 0 else 1))\n",
                "    # colors[labels < 0] = 0\n",
                "    # pcd.colors = o3d.utility.Vector3dVector(colors[:, :3])\n",
                "    # o3d.visualization.draw_geometries([pcd],\n",
                "    #                                 zoom=0.455,\n",
                "    #                                 front=[-0.4999, -0.1659, -0.8499],\n",
                "    #                                 lookat=[2.1813, 2.0619, 2.0999],\n",
                "    #                                 up=[0.1204, -0.9852, 0.1215])\n",
                "    # pcl, ind = pcd.remove_radius_outlier(nb_points=30, radius=1)\n",
                "    # hull, _ = pcl.compute_convex_hull()\n",
                "    # hull_ls = o3d.geometry.LineSet.create_from_triangle_mesh(hull)\n",
                "    # hull_ls.paint_uniform_color((1, 0, 0))\n",
                "    # o3d.visualization.draw_geometries([pcl, hull_ls])\n"
            ],
            "outputs": [],
            "metadata": {}
        },
        {
            "cell_type": "code",
            "execution_count": 3,
            "source": [
                "\n",
                "readFile(\"94856000.pcd\")"
            ],
            "outputs": [
                {
                    "output_type": "stream",
                    "name": "stdout",
                    "text": [
                        "Reading in file\n",
                        "PointCloud with 3763 points.\n",
                        "[[ 10.1      -31.700001   0.1     ]\n",
                        " [ 10.5      -31.9        0.1     ]\n",
                        " [ 10.9      -31.9        0.1     ]\n",
                        " ...\n",
                        " [ 27.299999 -15.3        0.1     ]\n",
                        " [ 27.700001 -15.3        0.1     ]\n",
                        " [ 28.299999 -15.3        0.1     ]]\n",
                        "alpha=1.000\n"
                    ]
                },
                {
                    "output_type": "error",
                    "ename": "RuntimeError",
                    "evalue": "\u001b[1;31m[Open3D ERROR] [CreateFromPointCloudAlphaShape] invalid tetra in TetraMesh\u001b[0;m",
                    "traceback": [
                        "\u001b[0;31m---------------------------------------------------------------------------\u001b[0m",
                        "\u001b[0;31mRuntimeError\u001b[0m                              Traceback (most recent call last)",
                        "\u001b[0;32m<ipython-input-3-2519158a9253>\u001b[0m in \u001b[0;36m<module>\u001b[0;34m\u001b[0m\n\u001b[0;32m----> 1\u001b[0;31m \u001b[0mreadFile\u001b[0m\u001b[0;34m(\u001b[0m\u001b[0;34m\"94856000.pcd\"\u001b[0m\u001b[0;34m)\u001b[0m\u001b[0;34m\u001b[0m\u001b[0;34m\u001b[0m\u001b[0m\n\u001b[0m",
                        "\u001b[0;32m<ipython-input-2-0ac52091bcc4>\u001b[0m in \u001b[0;36mreadFile\u001b[0;34m(FileName)\u001b[0m\n\u001b[1;32m      8\u001b[0m     \u001b[0malpha\u001b[0m \u001b[0;34m=\u001b[0m \u001b[0;36m1\u001b[0m\u001b[0;34m\u001b[0m\u001b[0;34m\u001b[0m\u001b[0m\n\u001b[1;32m      9\u001b[0m     \u001b[0mprint\u001b[0m\u001b[0;34m(\u001b[0m\u001b[0;34mf\"alpha={alpha:.3f}\"\u001b[0m\u001b[0;34m)\u001b[0m\u001b[0;34m\u001b[0m\u001b[0;34m\u001b[0m\u001b[0m\n\u001b[0;32m---> 10\u001b[0;31m     \u001b[0mmesh\u001b[0m \u001b[0;34m=\u001b[0m \u001b[0mo3d\u001b[0m\u001b[0;34m.\u001b[0m\u001b[0mgeometry\u001b[0m\u001b[0;34m.\u001b[0m\u001b[0mTriangleMesh\u001b[0m\u001b[0;34m.\u001b[0m\u001b[0mcreate_from_point_cloud_alpha_shape\u001b[0m\u001b[0;34m(\u001b[0m\u001b[0mpcd\u001b[0m\u001b[0;34m,\u001b[0m \u001b[0malpha\u001b[0m\u001b[0;34m)\u001b[0m\u001b[0;34m\u001b[0m\u001b[0;34m\u001b[0m\u001b[0m\n\u001b[0m\u001b[1;32m     11\u001b[0m     \u001b[0mmesh\u001b[0m\u001b[0;34m.\u001b[0m\u001b[0mcompute_vertex_normals\u001b[0m\u001b[0;34m(\u001b[0m\u001b[0;34m)\u001b[0m\u001b[0;34m\u001b[0m\u001b[0;34m\u001b[0m\u001b[0m\n\u001b[1;32m     12\u001b[0m     \u001b[0mo3d\u001b[0m\u001b[0;34m.\u001b[0m\u001b[0mvisualization\u001b[0m\u001b[0;34m.\u001b[0m\u001b[0mdraw_geometries\u001b[0m\u001b[0;34m(\u001b[0m\u001b[0;34m[\u001b[0m\u001b[0mmesh\u001b[0m\u001b[0;34m]\u001b[0m\u001b[0;34m,\u001b[0m \u001b[0mmesh_show_back_face\u001b[0m\u001b[0;34m=\u001b[0m\u001b[0;32mTrue\u001b[0m\u001b[0;34m)\u001b[0m\u001b[0;34m\u001b[0m\u001b[0;34m\u001b[0m\u001b[0m\n",
                        "\u001b[0;31mRuntimeError\u001b[0m: \u001b[1;31m[Open3D ERROR] [CreateFromPointCloudAlphaShape] invalid tetra in TetraMesh\u001b[0;m"
                    ]
                }
            ],
            "metadata": {}
        },
        {
            "cell_type": "code",
            "execution_count": 8,
            "source": [
                "mesh = o3d.geometry.Image.create_pyramid(5,False)\n",
                "o3d.visualization.draw_geometries(mesh)"
            ],
            "outputs": [
                {
                    "output_type": "error",
                    "ename": "TypeError",
                    "evalue": "create_pyramid(): incompatible function arguments. The following argument types are supported:\n    1. (self: open3d.cpu.pybind.geometry.Image, num_of_levels: int, with_gaussian_filter: bool) -> List[open3d.cpu.pybind.geometry.Image]\n\nInvoked with: 5, True",
                    "traceback": [
                        "\u001b[0;31m---------------------------------------------------------------------------\u001b[0m",
                        "\u001b[0;31mTypeError\u001b[0m                                 Traceback (most recent call last)",
                        "\u001b[0;32m<ipython-input-8-1243491bb97b>\u001b[0m in \u001b[0;36m<module>\u001b[0;34m\u001b[0m\n\u001b[0;32m----> 1\u001b[0;31m \u001b[0mmesh\u001b[0m \u001b[0;34m=\u001b[0m \u001b[0mo3d\u001b[0m\u001b[0;34m.\u001b[0m\u001b[0mgeometry\u001b[0m\u001b[0;34m.\u001b[0m\u001b[0mImage\u001b[0m\u001b[0;34m.\u001b[0m\u001b[0mcreate_pyramid\u001b[0m\u001b[0;34m(\u001b[0m\u001b[0;36m5\u001b[0m\u001b[0;34m,\u001b[0m\u001b[0;32mTrue\u001b[0m\u001b[0;34m)\u001b[0m\u001b[0;34m\u001b[0m\u001b[0;34m\u001b[0m\u001b[0m\n\u001b[0m\u001b[1;32m      2\u001b[0m \u001b[0mo3d\u001b[0m\u001b[0;34m.\u001b[0m\u001b[0mvisualization\u001b[0m\u001b[0;34m.\u001b[0m\u001b[0mdraw_geometries\u001b[0m\u001b[0;34m(\u001b[0m\u001b[0mmesh\u001b[0m\u001b[0;34m)\u001b[0m\u001b[0;34m\u001b[0m\u001b[0;34m\u001b[0m\u001b[0m\n",
                        "\u001b[0;31mTypeError\u001b[0m: create_pyramid(): incompatible function arguments. The following argument types are supported:\n    1. (self: open3d.cpu.pybind.geometry.Image, num_of_levels: int, with_gaussian_filter: bool) -> List[open3d.cpu.pybind.geometry.Image]\n\nInvoked with: 5, True"
                    ]
                }
            ],
            "metadata": {}
        },
        {
            "cell_type": "code",
            "execution_count": null,
            "source": [],
            "outputs": [],
            "metadata": {}
        }
    ],
    "metadata": {
        "orig_nbformat": 4,
        "language_info": {
            "name": "python",
            "version": "3.6.9",
            "mimetype": "text/x-python",
            "codemirror_mode": {
                "name": "ipython",
                "version": 3
            },
            "pygments_lexer": "ipython3",
            "nbconvert_exporter": "python",
            "file_extension": ".py"
        },
        "kernelspec": {
            "name": "python3",
            "display_name": "Python 3.6.9 64-bit"
        },
        "interpreter": {
            "hash": "31f2aee4e71d21fbe5cf8b01ff0e069b9275f58929596ceb00d14d90e3e16cd6"
        }
    },
    "nbformat": 4,
    "nbformat_minor": 2
}